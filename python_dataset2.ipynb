{
  "nbformat": 4,
  "nbformat_minor": 0,
  "metadata": {
    "colab": {
      "provenance": [],
      "toc_visible": true,
      "mount_file_id": "1AGC0THUGNA138y1b_dJkrwwbh49p004H",
      "authorship_tag": "ABX9TyO/lY+xIrw+kqNm2/K515VL",
      "include_colab_link": true
    },
    "kernelspec": {
      "name": "python3",
      "display_name": "Python 3"
    },
    "language_info": {
      "name": "python"
    }
  },
  "cells": [
    {
      "cell_type": "markdown",
      "metadata": {
        "id": "view-in-github",
        "colab_type": "text"
      },
      "source": [
        "<a href=\"https://colab.research.google.com/github/ardcreator/Python_DataAnalyst/blob/main/python_dataset2.ipynb\" target=\"_parent\"><img src=\"https://colab.research.google.com/assets/colab-badge.svg\" alt=\"Open In Colab\"/></a>"
      ]
    },
    {
      "cell_type": "markdown",
      "source": [
        "**[ DOKUMENTASI PYTHON DATASET 2 ]**\n",
        "> Section Data Cleansing !\\\n",
        "> Date | 01 Oktober 2024 \\\n",
        "> Link Dataset : https://drive.google.com/file/d/1wHXrLeZnj_C2ABqxxCvm0Txtc__PzaAe/view?usp=sharing\n",
        "\n",
        "Nama : MUH. ASHARI RASYID \\\n",
        "Class : Data Analyst 1 MIKTI \\\n",
        "Pemateri : Kak Fadhlan \\\n",
        "Biopage : Klik > [My Biopage](https://bio.asharirasyid.my.id)"
      ],
      "metadata": {
        "id": "tlYpJLb2fFZM"
      }
    },
    {
      "cell_type": "markdown",
      "source": [
        "# Test Data IMDB.csv"
      ],
      "metadata": {
        "id": "MmOi3xUXDDcQ"
      }
    },
    {
      "cell_type": "markdown",
      "source": [
        "## 1.Import Data"
      ],
      "metadata": {
        "id": "CMqJYhuBDIkR"
      }
    },
    {
      "cell_type": "code",
      "execution_count": null,
      "metadata": {
        "id": "kcuqSyj7C0HC"
      },
      "outputs": [],
      "source": [
        "import pandas as pd\n",
        "import numpy as np\n",
        "import matplotlib.pyplot as plt\n",
        "import seaborn as sns\n",
        "\n",
        "# Buka Gdrive\n",
        "from google.colab import drive\n",
        "drive.mount('/content/drive')\n",
        "\n",
        "# Import Data\n",
        "df = pd.read_csv('/content/drive/MyDrive/MIKTI/Dataset/IMDB.csv')\n",
        "df\n"
      ]
    },
    {
      "cell_type": "markdown",
      "source": [
        "## 2.Hilangkan Kolom gak di pakai\n",
        "\n"
      ],
      "metadata": {
        "id": "7sNweOh9Dxa9"
      }
    },
    {
      "cell_type": "code",
      "source": [
        "df2 = df.drop(['color', 'language'], axis=1, inplace=False)\n",
        "df2\n"
      ],
      "metadata": {
        "id": "4reZk0TXD1Lm"
      },
      "execution_count": null,
      "outputs": []
    },
    {
      "cell_type": "markdown",
      "source": [
        "## 3.Info Data"
      ],
      "metadata": {
        "id": "I7tsb8EMKGQi"
      }
    },
    {
      "cell_type": "code",
      "source": [
        "df2.info()"
      ],
      "metadata": {
        "id": "xOj7eouRKHzP"
      },
      "execution_count": null,
      "outputs": []
    },
    {
      "cell_type": "markdown",
      "source": [
        "## 4.Info Statistic"
      ],
      "metadata": {
        "id": "9d4ixD9YKZ66"
      }
    },
    {
      "cell_type": "code",
      "source": [
        "df2.describe()"
      ],
      "metadata": {
        "id": "WYmWIHB2KVWm"
      },
      "execution_count": null,
      "outputs": []
    },
    {
      "cell_type": "markdown",
      "source": [
        "## 5.Cek Data Kosong dimana saja"
      ],
      "metadata": {
        "id": "kXuCVf3bMsey"
      }
    },
    {
      "cell_type": "code",
      "source": [
        "# Cek value yang kosong di semua kolom\n",
        "missing_values = df2.isnull().sum()\n",
        "missing_values_sum = df2.isnull().sum().sum()\n",
        "print(missing_values)\n",
        "print('Jumlah Kosong : ' + missing_values_sum.astype(str))\n",
        "print('')\n",
        "\n",
        "# Tampilkan index yang memiliki value kosong\n",
        "for column in df2.columns:\n",
        "  if df2[column].isnull().any():\n",
        "    print(f\"Kolom '{column}' memiliki nilai kosong pada index:\")\n",
        "    print(df2[df2[column].isnull()].index.tolist())\n"
      ],
      "metadata": {
        "id": "5SjPVeF0MN7k"
      },
      "execution_count": null,
      "outputs": []
    },
    {
      "cell_type": "markdown",
      "source": [
        "## 6.Cek Array data di Kolom Director Name"
      ],
      "metadata": {
        "id": "WIjayWkONkYp"
      }
    },
    {
      "cell_type": "code",
      "source": [
        "df2['director_name'].unique()"
      ],
      "metadata": {
        "collapsed": true,
        "id": "7Z8CG1A-NoeR"
      },
      "execution_count": null,
      "outputs": []
    },
    {
      "cell_type": "markdown",
      "source": [
        "### a.Ganti Teks Data Kosong menjadi String Kosong"
      ],
      "metadata": {
        "id": "K3GtNId_Qe4D"
      }
    },
    {
      "cell_type": "code",
      "source": [
        "df2['director_name'] = np.where(df2['director_name'] == 'Nan', '-', df2['director_name'])\n",
        "df2['director_name'] = np.where(df2['director_name'] == 'Null', '-', df2['director_name'])\n",
        "df2['director_name'] = np.where(df2['director_name'].isnull(), '-', df2['director_name'])\n",
        "df2['director_name'].unique()"
      ],
      "metadata": {
        "id": "jDBRnIZAN023"
      },
      "execution_count": null,
      "outputs": []
    },
    {
      "cell_type": "code",
      "source": [
        "# Cek data kosong di Director Name\n",
        "df2['director_name'].isnull().sum()"
      ],
      "metadata": {
        "id": "37vomMSzPrXy"
      },
      "execution_count": null,
      "outputs": []
    },
    {
      "cell_type": "markdown",
      "source": [
        "## 7.Plot Design Duration"
      ],
      "metadata": {
        "id": "6MILstJCQtZu"
      }
    },
    {
      "cell_type": "code",
      "source": [
        "plt.boxplot(df2['duration'])"
      ],
      "metadata": {
        "id": "vjmHB0r6QxF_"
      },
      "execution_count": null,
      "outputs": []
    },
    {
      "cell_type": "markdown",
      "source": [
        "### a.Tampilkan Data Duration dan Hapus -50"
      ],
      "metadata": {
        "id": "Yk_8D-R3Tq8u"
      }
    },
    {
      "cell_type": "code",
      "source": [
        "df2['duration'].unique()"
      ],
      "metadata": {
        "id": "YHs-27azRN_J"
      },
      "execution_count": null,
      "outputs": []
    },
    {
      "cell_type": "code",
      "source": [
        "df2 = df2[df2.duration != -50] #tidak ambil -50\n",
        "df2['duration'].unique()"
      ],
      "metadata": {
        "id": "UnKtELalR4ct"
      },
      "execution_count": null,
      "outputs": []
    },
    {
      "cell_type": "markdown",
      "source": [
        "## 8.Hilangkan Data Kosong Gross"
      ],
      "metadata": {
        "id": "k_M07bZaT7Os"
      }
    },
    {
      "cell_type": "code",
      "source": [
        "pd.set_option('display.max_rows', None)\n",
        "df2['gross']"
      ],
      "metadata": {
        "id": "kC0U2SyKUGk6"
      },
      "execution_count": null,
      "outputs": []
    },
    {
      "cell_type": "code",
      "source": [
        "df2['gross'].fillna(0, inplace=True)\n",
        "\n",
        "pd.set_option('display.max_rows', None)\n",
        "df2['gross']"
      ],
      "metadata": {
        "collapsed": true,
        "id": "UB3jcjw1U2fM"
      },
      "execution_count": null,
      "outputs": []
    },
    {
      "cell_type": "code",
      "source": [
        "# Cek Data Kosong\n",
        "df2['gross'].isnull().sum()"
      ],
      "metadata": {
        "id": "XYcQZC5gWA3I"
      },
      "execution_count": null,
      "outputs": []
    },
    {
      "cell_type": "markdown",
      "source": [
        "## 9.Hilangkan data kosong Genres dan Budget"
      ],
      "metadata": {
        "id": "5tLj6pfgW1NE"
      }
    },
    {
      "cell_type": "code",
      "source": [
        "pd.set_option('display.max_rows', None)\n",
        "df2[['genres', 'budget']]"
      ],
      "metadata": {
        "id": "1bpxGxNxXAg0"
      },
      "execution_count": null,
      "outputs": []
    },
    {
      "cell_type": "code",
      "source": [
        "df2['genres'].fillna('-', inplace=True)\n",
        "df2['budget'].fillna(0, inplace=True)\n",
        "df2['genres'] = df2['genres'].str.replace('|',',')\n",
        "\n",
        "pd.set_option('display.max_rows', None)\n",
        "df2[['genres', 'budget']]"
      ],
      "metadata": {
        "id": "3tGyri-5XR0E"
      },
      "execution_count": null,
      "outputs": []
    },
    {
      "cell_type": "markdown",
      "source": [
        "## 10.Ubah data Years"
      ],
      "metadata": {
        "id": "7SoHZQXFb46O"
      }
    },
    {
      "cell_type": "code",
      "source": [
        "df2['title_year'].unique()"
      ],
      "metadata": {
        "id": "LFl0xJhYb6oR"
      },
      "execution_count": null,
      "outputs": []
    },
    {
      "cell_type": "code",
      "source": [
        "df2['title_year'] = df2['title_year'].replace({202: 2002, 205: 2005})\n",
        "df2['title_year']"
      ],
      "metadata": {
        "id": "RnyU-qKdb9jh"
      },
      "execution_count": null,
      "outputs": []
    },
    {
      "cell_type": "markdown",
      "source": [
        "## 11.Ubah data IMDB Score\n",
        "\n"
      ],
      "metadata": {
        "id": "NTpIbNcucw45"
      }
    },
    {
      "cell_type": "code",
      "source": [
        "df2['imdb_score'].unique()"
      ],
      "metadata": {
        "id": "3J0cbFLyc6fa"
      },
      "execution_count": null,
      "outputs": []
    },
    {
      "cell_type": "code",
      "source": [
        "# prompt: ambil data tanpa -1.2\n",
        "\n",
        "df2 = df2[df2.imdb_score != -1.2]\n",
        "df2['imdb_score'].unique()\n"
      ],
      "metadata": {
        "id": "QxXs2uyIdFP6"
      },
      "execution_count": null,
      "outputs": []
    },
    {
      "cell_type": "markdown",
      "source": [
        "## 12.Ubah data Country"
      ],
      "metadata": {
        "id": "7F13nbggkMg5"
      }
    },
    {
      "cell_type": "code",
      "source": [
        "df2['country'] = df2['country'].str.replace('usa', 'USA')\n",
        "pd.set_option('display.max_rows', None)\n",
        "df2['country']\n"
      ],
      "metadata": {
        "id": "T6jeyFMckjl7"
      },
      "execution_count": null,
      "outputs": []
    },
    {
      "cell_type": "markdown",
      "source": [
        "## 13.Hasil Data setelah di edit"
      ],
      "metadata": {
        "id": "Hcl4p6SLdOYb"
      }
    },
    {
      "cell_type": "code",
      "source": [
        "pd.set_option('display.max_rows', None)\n",
        "df2"
      ],
      "metadata": {
        "id": "pLvaa70BdXXs"
      },
      "execution_count": null,
      "outputs": []
    },
    {
      "cell_type": "markdown",
      "source": [
        "# Ekspor Data\n"
      ],
      "metadata": {
        "id": "U9gcvK87dvEZ"
      }
    },
    {
      "cell_type": "code",
      "source": [
        "# Install library openpyxl for xlsx\n",
        "!pip install openpyxl\n",
        "\n",
        "from google.colab import files\n",
        "df2.to_excel('IMDB_Clean.xlsx', index=False)\n",
        "files.download('IMDB_Clean.xlsx')\n"
      ],
      "metadata": {
        "id": "yVtWaAlkd1aS"
      },
      "execution_count": null,
      "outputs": []
    },
    {
      "cell_type": "code",
      "source": [
        "df2.to_excel('/content/drive/MyDrive/MIKTI/Dataset/IMDB_Clean.xlsx', index=False)"
      ],
      "metadata": {
        "id": "N_YwapWTo80x"
      },
      "execution_count": null,
      "outputs": []
    }
  ]
}